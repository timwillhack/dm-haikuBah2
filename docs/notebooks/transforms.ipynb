{
  "cells": [
    {
      "cell_type": "markdown",
      "metadata": {
        "id": "p2am8ROJEtrS"
      },
      "source": [
        "# Limitations of using JAX transforms inside of networks\n",
        "\n",
        "Once a Haiku network has been transformed to a pure function using `hk.transform`, it's possible to freely combine it with any JAX transformations like `jax.jit`, `jax.grad`, and so on.\n",
        "\n",
        "It's also possible to use JAX transformations **inside** of a Haiku network, but there can be issues with JAX's tracing mechanism since Haiku functions can have side effects (through `hk.next_rng_key`, `hk.get_parameter` and other stateful Haiku calls). To work around this, Haiku provides wrapped versions of JAX transforms under the `haiku` namespace. You can access these as `hk.jit`, `hk.grad`, and so on.\n",
        "\n",
        "These wrappers turn the underlying Haiku function into a pure function, apply the corresponding JAX transformation and re-package the result as a stateful Haiku function.\n",
        "\n",
        "The wrapped transforms are currently considered experimental."
      ]
    }
  ],
  "metadata": {
    "colab": {
      "collapsed_sections": [],
      "name": "Haiku Transforms",
      "provenance": [
        {
          "file_id": "1SYpfbVIs1_Fe3kgIZXfrQkVpSlKwjBsu",
          "timestamp": 1604473475829
        }
      ]
    },
    "kernelspec": {
      "display_name": "Python 3",
      "name": "python"
    }
  },
  "nbformat": 4,
  "nbformat_minor": 0
}
