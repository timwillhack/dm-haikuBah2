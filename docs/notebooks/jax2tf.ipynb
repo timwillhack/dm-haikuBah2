{
  "cells": [
    {
      "cell_type": "markdown",
      "metadata": {
        "id": "_"
      },
      "source": [
        "# Haiku and `jax2tf`\n",
        "\n",
        "`jax2tf` is an advanced JAX feature supporting staging JAX programs out as TensorFlow graphs.\n",
        "\n",
        "This is a useful feature if you want to integrate with an existing TensorFlow codebase or tool. In this tutorial we will demonstrate defining a simple model in Haiku, converting it to TensorFlow as a `tf.Module` and then training it.\n",
        "\n",
        "We'll then save the model as a [TensorFlow SavedModel](https://www.tensorflow.org/guide/saved_model) so it can be used later in other TensorFlow programs."
      ]
    },
    {
      "cell_type": "code",
      "execution_count": 1,
      "metadata": {
        "id": "_"
      },
      "outputs": [],
      "source": [
        "!pip install dm-tree dm-sonnet tensorflow tensorflow_datasets ipywidgets matplotlib >/dev/null"
      ]
    },
    {
      "cell_type": "code",
      "execution_count": 2,
      "metadata": {
        "id": "_"
      },
      "outputs": [],
      "source": [
        "import haiku as hk\n",
        "import jax\n",
        "import jax.numpy as jnp\n",
        "from jax.experimental import jax2tf\n",
        "import sonnet as snt\n",
        "import tensorflow as tf\n",
        "import tree"
      ]
    },
    {
      "cell_type": "markdown",
      "metadata": {
        "id": "_"
      },
      "source": [
        "## Define your model in JAX\n",
        "\n",
        "First things first, we need to define our model using Haiku and JAX. For MNIST we can use a trivial model like an MLP.\n",
        "\n",
        "We initialize the model using JAX and get initial parameter values. If you wanted you could additionally go on to train your model using JAX, but in this example we will do that in TensorFlow."
      ]
    },
    {
      "cell_type": "code",
      "execution_count": 3,
      "metadata": {
        "id": "_"
      },
      "outputs": [
        {
          "name": "stderr",
          "output_type": "stream",
          "text": [
            "WARNING:absl:No GPU/TPU found, falling back to CPU. (Set TF_CPP_MIN_LOG_LEVEL=0 and rerun for more info.)\n"
          ]
        }
      ],
      "source": [
        "def f(x):\n",
        "  net = hk.nets.MLP([300, 100, 10])\n",
        "  return net(x)\n",
        "\n",
        "f = hk.transform(f)\n",
        "\n",
        "rng = jax.random.PRNGKey(42)\n",
        "x = jnp.ones([1, 28 * 28 * 1])\n",
        "params = f.init(rng, x)"
      ]
    },
    {
      "cell_type": "markdown",
      "metadata": {
        "id": "_"
      },
      "source": [
        "## Convert to TensorFlow\n",
        "\n",
        "TensorFlow ships with a module abstraction that supports common tasks like collecting model parameters.\n",
        "\n",
        "Sonnet is a library of `tf.Module` subclasses including common NN layers, optimizers and some metrics. Sonnet is a sister library to Haiku developed by the same team.\n",
        "\n",
        "We will use Sonnet's module class for some nice `name_scope`-ing and later we will use the Adam optimizer implemented in Sonnet as well as some utility functions."
      ]
    },
    {
      "cell_type": "code",
      "execution_count": 4,
      "metadata": {
        "id": "_"
      },
      "outputs": [
        {
          "data": {
            "text/plain": [
              "['jax_module/mlp/_/linear_0/b:0',\n",
              " 'jax_module/mlp/_/linear_0/w:0',\n",
              " 'jax_module/mlp/_/linear_1/b:0',\n",
              " 'jax_module/mlp/_/linear_1/w:0',\n",
              " 'jax_module/mlp/_/linear_2/b:0',\n",
              " 'jax_module/mlp/_/linear_2/w:0']"
            ]
          },
          "execution_count": 1,
          "metadata": {},
          "output_type": "execute_result"
        }
      ],
      "source": [
        "def create_variable(path, value):\n",
        "  name = '/'.join(map(str, path)).replace('~', '_')\n",
        "  return tf.Variable(value, name=name)\n",
        "\n",
        "class JaxModule(snt.Module):\n",
        "  def __init__(self, params, apply_fn, name=None):\n",
        "    super().__init__(name=name)\n",
        "    self._params = tree.map_structure_with_path(create_variable, params)\n",
        "    self._apply = jax2tf.convert(lambda p, x: apply_fn(p, None, x))\n",
        "    self._apply = tf.autograph.experimental.do_not_convert(self._apply)\n",
        "\n",
        "  def __call__(self, inputs):\n",
        "    return self._apply(self._params, inputs)\n",
        "\n",
        "net = JaxModule(params, f.apply)\n",
        "[v.name for v in net.trainable_variables]"
      ]
    },
    {
      "cell_type": "markdown",
      "metadata": {
        "id": "_"
      },
      "source": [
        "## Train using TensorFlow\n",
        "\n",
        "TensorFlow datasets is a great library with lots of common datasets that you might want to do research with. Here we will use it to load the MNIST handwritten digit dataset and define a simple pipeline that will randomly shuffle training images and normalize them into `[0, 1)`."
      ]
    },
    {
      "cell_type": "code",
      "execution_count": 5,
      "metadata": {
        "id": "_"
      },
      "outputs": [],
      "source": [
        "import tensorflow_datasets as tfds\n",
        "\n",
        "ds_train, ds_test = tfds.load('mnist', split=('train', 'test'),\n",
        "                              shuffle_files=True, as_supervised=True)\n",
        "\n",
        "def normalize_img(image, label):\n",
        "  \"\"\"Normalizes images: `uint8` -> `float32`.\"\"\"\n",
        "  image = tf.cast(image, tf.float32) / 255.\n",
        "  return image, label\n",
        "\n",
        "ds_train = ds_train.map(normalize_img, num_parallel_calls=tf.data.experimental.AUTOTUNE)\n",
        "ds_train = ds_train.cache()\n",
        "ds_train = ds_train.shuffle(60000)\n",
        "ds_train = ds_train.batch(100)\n",
        "ds_train = ds_train.repeat()\n",
        "ds_train = ds_train.prefetch(tf.data.experimental.AUTOTUNE)\n",
        "\n",
        "ds_test = ds_test.map(normalize_img, num_parallel_calls=tf.data.experimental.AUTOTUNE)\n",
        "ds_test = ds_test.batch(100)\n",
        "ds_test = ds_test.cache()\n",
        "ds_test = ds_test.prefetch(tf.data.experimental.AUTOTUNE)"
      ]
    },
    {
      "cell_type": "markdown",
      "metadata": {
        "id": "_"
      },
      "source": [
        "In order to train our model we need a training loop that updates model parameters based on gradients for some loss. For this example we will use the Adam optimizer from Sonnet and perform a gradient update to our parameters for each mini-batch."
      ]
    },
    {
      "cell_type": "code",
      "execution_count": 6,
      "metadata": {
        "id": "_"
      },
      "outputs": [
        {
          "name": "stdout",
          "output_type": "stream",
          "text": [
            "Step 0: 2.309901475906372\n",
            "Step 1000: 0.23313118517398834\n",
            "Step 2000: 0.058662284165620804\n",
            "Step 3000: 0.060427404940128326\n",
            "Step 4000: 0.07748399674892426\n",
            "Step 5000: 0.07069656997919083\n",
            "Step 6000: 0.03870276361703873\n"
          ]
        }
      ],
      "source": [
        "net = JaxModule(params, f.apply)\n",
        "opt = snt.optimizers.Adam(1e-3)\n",
        "\n",
        "@tf.function(experimental_compile=True, autograph=False)\n",
        "def train_step(images, labels):\n",
        "  \"\"\"Performs one optimizer step on a single mini-batch.\"\"\"\n",
        "  with tf.GradientTape() as tape:\n",
        "    images = snt.flatten(images)\n",
        "    logits = net(images)\n",
        "    loss = tf.nn.sparse_softmax_cross_entropy_with_logits(logits=logits,\n",
        "                                                          labels=labels)\n",
        "    loss = tf.reduce_mean(loss)\n",
        "    params = tape.watched_variables()\n",
        "    loss += 1e-4 * sum(map(tf.nn.l2_loss, params))\n",
        "\n",
        "  grads = tape.gradient(loss, params)\n",
        "  opt.apply(grads, params)\n",
        "  return loss\n",
        "\n",
        "for step, (images, labels) in enumerate(ds_train.take(6001)):\n",
        "  loss = train_step(images, labels)\n",
        "  if step % 1000 == 0:\n",
        "    print(f\"Step {step}: {loss.numpy()}\")"
      ]
    },
    {
      "cell_type": "markdown",
      "metadata": {
        "id": "_"
      },
      "source": [
        "To evaluate how our newly trained model performs we can use top-1 accuracy on our test set."
      ]
    },
    {
      "cell_type": "code",
      "execution_count": 7,
      "metadata": {
        "id": "_"
      },
      "outputs": [
        {
          "name": "stdout",
          "output_type": "stream",
          "text": [
            "Got 9805/10000 (98.05%) correct\n"
          ]
        }
      ],
      "source": [
        "def accuracy(model):\n",
        "  total = 0\n",
        "  correct = 0\n",
        "  for images, labels in ds_test:\n",
        "    predictions = tf.argmax(model(snt.flatten(images)), axis=1)\n",
        "    correct += tf.math.count_nonzero(tf.equal(predictions, labels))\n",
        "    total += images.shape[0]\n",
        "\n",
        "  print(\"Got %d/%d (%.02f%%) correct\" % (correct, total, correct / total * 100.))\n",
        "\n",
        "accuracy(net)"
      ]
    },
    {
      "cell_type": "markdown",
      "metadata": {
        "id": "_"
      },
      "source": [
        "It is useful to visualize predictions the model is making against the input we are providing. This can be particularly useful where the model mispredicts the label, you can see that in some cases the handwriting is a bit dubious!"
      ]
    },
    {
      "cell_type": "code",
      "execution_count": 8,
      "metadata": {
        "id": "_"
      },
      "outputs": [],
      "source": [
        "import matplotlib.pyplot as plt\n",
        "\n",
        "def sample(correct, rows, cols):\n",
        "  \"\"\"Utility function to show a sample of images.\"\"\"\n",
        "  n = 0\n",
        "\n",
        "  f, ax = plt.subplots(rows, cols)\n",
        "  if rows > 1:\n",
        "    ax = tf.nest.flatten([tuple(ax[i]) for i in range(rows)])\n",
        "  f.set_figwidth(14)\n",
        "  f.set_figheight(4 * rows)\n",
        "\n",
        "  for images, labels in ds_test:\n",
        "    predictions = tf.argmax(net(snt.flatten(images)), axis=1)\n",
        "    eq = tf.equal(predictions, labels)\n",
        "    for i, x in enumerate(eq):\n",
        "      if x.numpy() == correct:\n",
        "        label = labels[i]\n",
        "        prediction = predictions[i]\n",
        "        image = tf.squeeze(images[i])\n",
        "\n",
        "        ax[n].imshow(image)\n",
        "        ax[n].set_title(\"Prediction:{}\\nActual:{}\".format(prediction, label))\n",
        "\n",
        "        n += 1\n",
        "        if n == (rows * cols):\n",
        "          break\n",
        "\n",
        "    if n == (rows * cols):\n",
        "      break"
      ]
    },
    {
      "cell_type": "code",
      "execution_count": 9,
      "metadata": {
        "id": "_"
      },
      "outputs": [
        {
          "data": {
            "image/png": "[encoded data removed]",
            "text/plain": [
              "<Figure size 1008x288 with 5 Axes>"
            ]
          },
          "metadata": {
            "needs_background": "light"
          },
          "output_type": "display_data"
        }
      ],
      "source": [
        "sample(correct=True, rows=1, cols=5)"
      ]
    },
    {
      "cell_type": "code",
      "execution_count": 10,
      "metadata": {
        "id": "_"
      },
      "outputs": [
        {
          "data": {
            "image/png": "[encoded data removed]",
            "text/plain": [
              "<Figure size 1008x576 with 10 Axes>"
            ]
          },
          "metadata": {
            "needs_background": "light"
          },
          "output_type": "display_data"
        }
      ],
      "source": [
        "sample(correct=False, rows=2, cols=5)"
      ]
    },
    {
      "cell_type": "markdown",
      "metadata": {
        "id": "_"
      },
      "source": [
        "## Save to disk as a TensorFlow SavedModel\n",
        "\n",
        "It is very common to take a model trained using TensorFlow and save it to disk as a \"saved model\". This is a language independent format that allows you to load your model code using Python, C++ or other languages supported by TensorFlow.\n",
        "\n",
        "### Saving\n",
        "\n",
        "In order to save our model to disk, we need to define what the functions are that we want to save, and provide references to any state we want to save:"
      ]
    },
    {
      "cell_type": "code",
      "execution_count": 11,
      "metadata": {
        "id": "_"
      },
      "outputs": [
        {
          "name": "stdout",
          "output_type": "stream",
          "text": [
            "INFO:tensorflow:Assets written to: /tmp/example_saved_model/assets\n"
          ]
        },
        {
          "name": "stderr",
          "output_type": "stream",
          "text": [
            "INFO:tensorflow:Assets written to: /tmp/example_saved_model/assets\n"
          ]
        }
      ],
      "source": [
        "@tf.function(autograph=False, input_signature=[tf.TensorSpec([100, 28 * 28])])\n",
        "def forward(x):\n",
        "  return net(x)\n",
        "\n",
        "to_save = tf.Module()\n",
        "to_save.forward = forward\n",
        "to_save.params = list(net.variables)\n",
        "tf.saved_model.save(to_save, \"/tmp/example_saved_model\")"
      ]
    },
    {
      "cell_type": "markdown",
      "metadata": {
        "id": "_"
      },
      "source": [
        "### Loading\n",
        "\n",
        "Loading a saved model is trivial, and you can see that this looks a lot like the model we saved:"
      ]
    },
    {
      "cell_type": "code",
      "execution_count": 12,
      "metadata": {
        "id": "_"
      },
      "outputs": [
        {
          "name": "stdout",
          "output_type": "stream",
          "text": [
            "WARNING:tensorflow:Importing a function (__inference_forward_26770) with ops with custom gradients. Will likely fail if a gradient is requested.\n"
          ]
        },
        {
          "name": "stderr",
          "output_type": "stream",
          "text": [
            "WARNING:tensorflow:Importing a function (__inference_forward_26770) with ops with custom gradients. Will likely fail if a gradient is requested.\n"
          ]
        },
        {
          "data": {
            "text/plain": [
              "['jax_module/mlp/_/linear_0/b:0',\n",
              " 'jax_module/mlp/_/linear_0/w:0',\n",
              " 'jax_module/mlp/_/linear_1/b:0',\n",
              " 'jax_module/mlp/_/linear_1/w:0',\n",
              " 'jax_module/mlp/_/linear_2/b:0',\n",
              " 'jax_module/mlp/_/linear_2/w:0']"
            ]
          },
          "execution_count": 1,
          "metadata": {},
          "output_type": "execute_result"
        }
      ],
      "source": [
        "loaded = tf.saved_model.load(\"/tmp/example_saved_model\")\n",
        "preds = loaded.forward(tf.ones([100, 28 * 28]))\n",
        "assert preds.shape == [100, 10]\n",
        "assert len(loaded.params) == 6\n",
        "\n",
        "[v.name for v in loaded.params]"
      ]
    },
    {
      "cell_type": "markdown",
      "metadata": {
        "id": "_"
      },
      "source": [
        "Thankfully the restored model performs just as well as the model that we saved:"
      ]
    },
    {
      "cell_type": "code",
      "execution_count": 13,
      "metadata": {
        "id": "_"
      },
      "outputs": [
        {
          "name": "stdout",
          "output_type": "stream",
          "text": [
            "Got 9805/10000 (98.05%) correct\n"
          ]
        }
      ],
      "source": [
        "accuracy(loaded.forward)"
      ]
    }
  ],
  "metadata": {
    "colab": {}
  },
  "nbformat": 4,
  "nbformat_minor": 0
}
